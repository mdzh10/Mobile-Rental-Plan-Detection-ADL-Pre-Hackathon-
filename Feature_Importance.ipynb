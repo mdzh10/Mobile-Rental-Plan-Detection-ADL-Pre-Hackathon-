{
 "cells": [
  {
   "cell_type": "code",
   "execution_count": 1,
   "source": [
    "import pandas as pd\r\n",
    "import time\r\n",
    "import numpy as np\r\n",
    "from sklearn.ensemble import RandomForestClassifier\r\n",
    "import matplotlib.pyplot as plt\r\n",
    "from sklearn.metrics import r2_score\r\n",
    "import scipy.stats as stats\r\n",
    "from sklearn.neural_network import MLPClassifier\r\n",
    "from sklearn.model_selection import train_test_split"
   ],
   "outputs": [],
   "metadata": {}
  },
  {
   "cell_type": "code",
   "execution_count": 2,
   "source": [
    "df = pd.read_csv(\"./data/Train_Fix.csv\")"
   ],
   "outputs": [],
   "metadata": {}
  },
  {
   "cell_type": "code",
   "execution_count": 3,
   "source": [
    "df.loc[df['next_month_plan'] == 'PKG1', 'next_month_plan'] = 1\r\n",
    "df.loc[df['next_month_plan'] == 'PKG2', 'next_month_plan'] = 2\r\n",
    "df.loc[df['next_month_plan'] == 'PKG3', 'next_month_plan'] = 3\r\n",
    "df.loc[df['next_month_plan'] == 'PKG4', 'next_month_plan'] = 4\r\n",
    "df.loc[df['next_month_plan'] == 'PKG5', 'next_month_plan'] = 5\r\n",
    "df.loc[df['next_month_plan'] == 'PKG6', 'next_month_plan'] = 6\r\n",
    "df.loc[df['next_month_plan'] == 'PKG7', 'next_month_plan'] = 7\r\n",
    "df.loc[df['next_month_plan'] == 'PKG8', 'next_month_plan'] = 8\r\n",
    "\r\n",
    "df['device_type'] = pd.factorize(df['device_type'],na_sentinel=None)[0]\r\n",
    "df['device_category'] = pd.factorize(df['device_category'],na_sentinel=None)[0]\r\n",
    "df['gender'] = pd.factorize(df['gender'],na_sentinel=None)[0]\r\n",
    "df['district_name'] = pd.factorize(df['district_name'],na_sentinel=None)[0]\r\n",
    "df['age_group'] = pd.factorize(df['age_group'],na_sentinel=None)[0]"
   ],
   "outputs": [],
   "metadata": {}
  },
  {
   "cell_type": "code",
   "execution_count": 4,
   "source": [
    "df = df.dropna(axis=1)\r\n",
    "train_df = df.drop(['next_month_plan'],axis=1)\r\n",
    "train_df = df.drop(df.columns.difference([\r\n",
    " 'network_stay',\r\n",
    " 'average_monthly_bill_amount',\r\n",
    " 'dusage_sum',\r\n",
    " 'dusage_max',\r\n",
    " 'dusage_stddev',\r\n",
    " 'vusage_offnet_max',\r\n",
    " 'vusage_offnet_days',\r\n",
    " 'vusage_offnet_stddev']), 1)\r\n",
    "\r\n",
    "X = train_df.to_numpy()\r\n",
    "Y = df['next_month_plan']\r\n",
    "Y = Y.to_numpy()\r\n",
    "Y = Y.astype('int')"
   ],
   "outputs": [],
   "metadata": {}
  },
  {
   "cell_type": "code",
   "execution_count": 5,
   "source": [
    "train_df"
   ],
   "outputs": [
    {
     "output_type": "execute_result",
     "data": {
      "text/html": [
       "<div>\n",
       "<style scoped>\n",
       "    .dataframe tbody tr th:only-of-type {\n",
       "        vertical-align: middle;\n",
       "    }\n",
       "\n",
       "    .dataframe tbody tr th {\n",
       "        vertical-align: top;\n",
       "    }\n",
       "\n",
       "    .dataframe thead th {\n",
       "        text-align: right;\n",
       "    }\n",
       "</style>\n",
       "<table border=\"1\" class=\"dataframe\">\n",
       "  <thead>\n",
       "    <tr style=\"text-align: right;\">\n",
       "      <th></th>\n",
       "      <th>network_stay</th>\n",
       "      <th>average_monthly_bill_amount</th>\n",
       "      <th>dusage_sum</th>\n",
       "      <th>dusage_max</th>\n",
       "      <th>dusage_stddev</th>\n",
       "      <th>vusage_offnet_max</th>\n",
       "      <th>vusage_offnet_days</th>\n",
       "      <th>vusage_offnet_stddev</th>\n",
       "    </tr>\n",
       "  </thead>\n",
       "  <tbody>\n",
       "    <tr>\n",
       "      <th>0</th>\n",
       "      <td>154</td>\n",
       "      <td>822.94</td>\n",
       "      <td>6131.0</td>\n",
       "      <td>1529.399115</td>\n",
       "      <td>295.490554</td>\n",
       "      <td>1.700000</td>\n",
       "      <td>8.0</td>\n",
       "      <td>0.376370</td>\n",
       "    </tr>\n",
       "    <tr>\n",
       "      <th>1</th>\n",
       "      <td>71</td>\n",
       "      <td>917.70</td>\n",
       "      <td>5571.0</td>\n",
       "      <td>485.940130</td>\n",
       "      <td>151.726243</td>\n",
       "      <td>0.000000</td>\n",
       "      <td>0.0</td>\n",
       "      <td>0.000000</td>\n",
       "    </tr>\n",
       "    <tr>\n",
       "      <th>2</th>\n",
       "      <td>17</td>\n",
       "      <td>464.44</td>\n",
       "      <td>33.0</td>\n",
       "      <td>1.254282</td>\n",
       "      <td>0.057480</td>\n",
       "      <td>0.000000</td>\n",
       "      <td>0.0</td>\n",
       "      <td>0.000000</td>\n",
       "    </tr>\n",
       "    <tr>\n",
       "      <th>3</th>\n",
       "      <td>273</td>\n",
       "      <td>3103.37</td>\n",
       "      <td>322.0</td>\n",
       "      <td>69.185369</td>\n",
       "      <td>14.813802</td>\n",
       "      <td>26.766667</td>\n",
       "      <td>24.0</td>\n",
       "      <td>6.980959</td>\n",
       "    </tr>\n",
       "    <tr>\n",
       "      <th>4</th>\n",
       "      <td>105</td>\n",
       "      <td>1059.65</td>\n",
       "      <td>1149.0</td>\n",
       "      <td>314.132696</td>\n",
       "      <td>91.951481</td>\n",
       "      <td>0.400000</td>\n",
       "      <td>1.0</td>\n",
       "      <td>0.085280</td>\n",
       "    </tr>\n",
       "    <tr>\n",
       "      <th>...</th>\n",
       "      <td>...</td>\n",
       "      <td>...</td>\n",
       "      <td>...</td>\n",
       "      <td>...</td>\n",
       "      <td>...</td>\n",
       "      <td>...</td>\n",
       "      <td>...</td>\n",
       "      <td>...</td>\n",
       "    </tr>\n",
       "    <tr>\n",
       "      <th>8778</th>\n",
       "      <td>16</td>\n",
       "      <td>4235.68</td>\n",
       "      <td>54612.0</td>\n",
       "      <td>8601.590596</td>\n",
       "      <td>2336.393994</td>\n",
       "      <td>0.000000</td>\n",
       "      <td>0.0</td>\n",
       "      <td>0.000000</td>\n",
       "    </tr>\n",
       "    <tr>\n",
       "      <th>8779</th>\n",
       "      <td>156</td>\n",
       "      <td>5459.93</td>\n",
       "      <td>14345.0</td>\n",
       "      <td>1149.832257</td>\n",
       "      <td>199.152430</td>\n",
       "      <td>0.000000</td>\n",
       "      <td>0.0</td>\n",
       "      <td>0.000000</td>\n",
       "    </tr>\n",
       "    <tr>\n",
       "      <th>8780</th>\n",
       "      <td>103</td>\n",
       "      <td>5084.35</td>\n",
       "      <td>5264.0</td>\n",
       "      <td>788.623732</td>\n",
       "      <td>181.664827</td>\n",
       "      <td>0.000000</td>\n",
       "      <td>0.0</td>\n",
       "      <td>0.000000</td>\n",
       "    </tr>\n",
       "    <tr>\n",
       "      <th>8781</th>\n",
       "      <td>104</td>\n",
       "      <td>4736.81</td>\n",
       "      <td>39754.0</td>\n",
       "      <td>2137.252754</td>\n",
       "      <td>413.620485</td>\n",
       "      <td>84.150000</td>\n",
       "      <td>28.0</td>\n",
       "      <td>22.382162</td>\n",
       "    </tr>\n",
       "    <tr>\n",
       "      <th>8782</th>\n",
       "      <td>107</td>\n",
       "      <td>4431.29</td>\n",
       "      <td>1060.0</td>\n",
       "      <td>340.719443</td>\n",
       "      <td>74.502181</td>\n",
       "      <td>0.000000</td>\n",
       "      <td>0.0</td>\n",
       "      <td>0.000000</td>\n",
       "    </tr>\n",
       "  </tbody>\n",
       "</table>\n",
       "<p>8783 rows × 8 columns</p>\n",
       "</div>"
      ],
      "text/plain": [
       "      network_stay  average_monthly_bill_amount  dusage_sum   dusage_max  \\\n",
       "0              154                       822.94      6131.0  1529.399115   \n",
       "1               71                       917.70      5571.0   485.940130   \n",
       "2               17                       464.44        33.0     1.254282   \n",
       "3              273                      3103.37       322.0    69.185369   \n",
       "4              105                      1059.65      1149.0   314.132696   \n",
       "...            ...                          ...         ...          ...   \n",
       "8778            16                      4235.68     54612.0  8601.590596   \n",
       "8779           156                      5459.93     14345.0  1149.832257   \n",
       "8780           103                      5084.35      5264.0   788.623732   \n",
       "8781           104                      4736.81     39754.0  2137.252754   \n",
       "8782           107                      4431.29      1060.0   340.719443   \n",
       "\n",
       "      dusage_stddev  vusage_offnet_max  vusage_offnet_days  \\\n",
       "0        295.490554           1.700000                 8.0   \n",
       "1        151.726243           0.000000                 0.0   \n",
       "2          0.057480           0.000000                 0.0   \n",
       "3         14.813802          26.766667                24.0   \n",
       "4         91.951481           0.400000                 1.0   \n",
       "...             ...                ...                 ...   \n",
       "8778    2336.393994           0.000000                 0.0   \n",
       "8779     199.152430           0.000000                 0.0   \n",
       "8780     181.664827           0.000000                 0.0   \n",
       "8781     413.620485          84.150000                28.0   \n",
       "8782      74.502181           0.000000                 0.0   \n",
       "\n",
       "      vusage_offnet_stddev  \n",
       "0                 0.376370  \n",
       "1                 0.000000  \n",
       "2                 0.000000  \n",
       "3                 6.980959  \n",
       "4                 0.085280  \n",
       "...                    ...  \n",
       "8778              0.000000  \n",
       "8779              0.000000  \n",
       "8780              0.000000  \n",
       "8781             22.382162  \n",
       "8782              0.000000  \n",
       "\n",
       "[8783 rows x 8 columns]"
      ]
     },
     "metadata": {},
     "execution_count": 5
    }
   ],
   "metadata": {}
  },
  {
   "cell_type": "code",
   "execution_count": 6,
   "source": [
    "X_train, X_test, y_train, y_test = train_test_split(\n",
    "     X, Y, test_size=0.33, random_state=42)\n",
    "\n",
    "y_train = y_train - 1\n",
    "y_test = y_test -1"
   ],
   "outputs": [],
   "metadata": {}
  },
  {
   "cell_type": "code",
   "execution_count": 7,
   "source": [
    "features = df.columns"
   ],
   "outputs": [],
   "metadata": {}
  },
  {
   "cell_type": "code",
   "execution_count": 8,
   "source": [
    "features = features.drop(['next_month_plan'])\n",
    "features"
   ],
   "outputs": [
    {
     "output_type": "execute_result",
     "data": {
      "text/plain": [
       "Index(['primary_identifier', 'device_type', 'device_category', 'gender',\n",
       "       'district_name', 'age_group', 'network_stay',\n",
       "       'average_monthly_bill_amount', 'dusage_sum', 'dusage_min', 'dusage_max',\n",
       "       'dusage_avg', 'dusage_days', 'dusage_stddev', 'vusage_onnet_sum',\n",
       "       'vusage_onnet_max', 'vusage_onnet_min', 'vusage_onnet_days',\n",
       "       'vusage_onnet_avg', 'vusage_onnet_stddev', 'vusage_offnet_sum',\n",
       "       'vusage_offnet_max', 'vusage_offnet_min', 'vusage_offnet_days',\n",
       "       'vusage_offnet_avg', 'vusage_offnet_stddev',\n",
       "       'number_of_fixed_bb_accounts', 'number_of_iptv_accounts'],\n",
       "      dtype='object')"
      ]
     },
     "metadata": {},
     "execution_count": 8
    }
   ],
   "metadata": {}
  },
  {
   "cell_type": "code",
   "execution_count": 9,
   "source": [
    "features = features.to_numpy()"
   ],
   "outputs": [],
   "metadata": {}
  },
  {
   "cell_type": "code",
   "execution_count": 117,
   "source": [
    "forest = RandomForestClassifier(random_state=0)\n",
    "forest.fit(X, Y)"
   ],
   "outputs": [
    {
     "output_type": "execute_result",
     "data": {
      "text/plain": [
       "RandomForestClassifier(random_state=0)"
      ]
     },
     "metadata": {},
     "execution_count": 117
    }
   ],
   "metadata": {}
  },
  {
   "cell_type": "code",
   "execution_count": 118,
   "source": [
    "start_time = time.time()\n",
    "importances = forest.feature_importances_\n",
    "std = np.std([\n",
    "    tree.feature_importances_ for tree in forest.estimators_], axis=0)\n",
    "elapsed_time = time.time() - start_time\n",
    "\n",
    "print(f\"Elapsed time to compute the importances: \"\n",
    "      f\"{elapsed_time:.3f} seconds\")"
   ],
   "outputs": [
    {
     "output_type": "stream",
     "name": "stdout",
     "text": [
      "Elapsed time to compute the importances: 0.040 seconds\n"
     ]
    }
   ],
   "metadata": {}
  },
  {
   "cell_type": "code",
   "execution_count": 119,
   "source": [
    "forest_importances = pd.Series(importances, index=features)\n",
    "plt.rcParams[\"figure.figsize\"] = (15,8)\n",
    "fig, ax = plt.subplots()\n",
    "forest_importances.plot.bar(yerr=std, ax=ax)\n",
    "ax.set_title(\"Feature importances using MDI\")\n",
    "ax.set_ylabel(\"Mean decrease in impurity\")\n",
    "fig.tight_layout()"
   ],
   "outputs": [
    {
     "output_type": "display_data",
     "data": {
      "image/png": "[encoded data removed]",
      "text/plain": [
       "<Figure size 1080x576 with 1 Axes>"
      ]
     },
     "metadata": {
      "needs_background": "light"
     }
    }
   ],
   "metadata": {}
  },
  {
   "cell_type": "code",
   "execution_count": 120,
   "source": [
    "forest_importances"
   ],
   "outputs": [
    {
     "output_type": "execute_result",
     "data": {
      "text/plain": [
       "primary_identifier             0.066486\n",
       "device_type                    0.004699\n",
       "device_category                0.004653\n",
       "gender                         0.013192\n",
       "district_name                  0.039792\n",
       "age_group                      0.030865\n",
       "network_stay                   0.073595\n",
       "average_monthly_bill_amount    0.203653\n",
       "dusage_sum                     0.069626\n",
       "dusage_min                     0.053883\n",
       "dusage_max                     0.064423\n",
       "dusage_days                    0.023387\n",
       "dusage_stddev                  0.063552\n",
       "vusage_onnet_sum               0.011125\n",
       "vusage_onnet_max               0.014105\n",
       "vusage_onnet_min               0.000000\n",
       "vusage_onnet_days              0.009803\n",
       "vusage_onnet_stddev            0.013527\n",
       "vusage_offnet_sum              0.046100\n",
       "vusage_offnet_max              0.057869\n",
       "vusage_offnet_min              0.001772\n",
       "vusage_offnet_days             0.061456\n",
       "vusage_offnet_stddev           0.054949\n",
       "number_of_fixed_bb_accounts    0.004655\n",
       "number_of_iptv_accounts        0.012833\n",
       "dtype: float64"
      ]
     },
     "metadata": {},
     "execution_count": 120
    }
   ],
   "metadata": {}
  },
  {
   "cell_type": "code",
   "execution_count": 83,
   "source": [
    "from sklearn.inspection import permutation_importance\n",
    "\n",
    "start_time = time.time()\n",
    "result = permutation_importance(\n",
    "    forest, X, Y, n_repeats=10, random_state=42, n_jobs=2)\n",
    "elapsed_time = time.time() - start_time\n",
    "print(f\"Elapsed time to compute the importances: \"\n",
    "      f\"{elapsed_time:.3f} seconds\")\n",
    "\n",
    "forest_importances = pd.Series(result.importances_mean, index=features)"
   ],
   "outputs": [
    {
     "output_type": "stream",
     "name": "stdout",
     "text": [
      "Elapsed time to compute the importances: 34.307 seconds\n"
     ]
    }
   ],
   "metadata": {}
  },
  {
   "cell_type": "code",
   "execution_count": 84,
   "source": [
    "plt.rcParams[\"figure.figsize\"] = (15,8)\n",
    "fig, ax = plt.subplots()\n",
    "forest_importances.plot.bar(yerr=result.importances_std, ax=ax)\n",
    "ax.set_title(\"Feature importances using permutation on full model\")\n",
    "ax.set_ylabel(\"Mean accuracy decrease\")\n",
    "fig.tight_layout()\n",
    "plt.show()"
   ],
   "outputs": [
    {
     "output_type": "display_data",
     "data": {
      "image/png": "[encoded data removed]",
      "text/plain": [
       "<Figure size 1080x576 with 1 Axes>"
      ]
     },
     "metadata": {
      "needs_background": "light"
     }
    }
   ],
   "metadata": {}
  },
  {
   "cell_type": "code",
   "execution_count": 85,
   "source": [
    "from sklearn.ensemble import ExtraTreesClassifier\n",
    "model = ExtraTreesClassifier()"
   ],
   "outputs": [],
   "metadata": {}
  },
  {
   "cell_type": "code",
   "execution_count": 86,
   "source": [
    "model.fit(X,Y)"
   ],
   "outputs": [
    {
     "output_type": "execute_result",
     "data": {
      "text/plain": [
       "ExtraTreesClassifier()"
      ]
     },
     "metadata": {},
     "execution_count": 86
    }
   ],
   "metadata": {}
  },
  {
   "cell_type": "code",
   "execution_count": 87,
   "source": [
    "feature_importance = pd.Series(model.feature_importances_,index = features)"
   ],
   "outputs": [],
   "metadata": {}
  },
  {
   "cell_type": "code",
   "execution_count": 90,
   "source": [
    "feature_importance.nlargest(15).plot(kind='barh')\n",
    "plt.show()"
   ],
   "outputs": [
    {
     "output_type": "display_data",
     "data": {
      "image/png": "[encoded data removed]",
      "text/plain": [
       "<Figure size 1080x576 with 1 Axes>"
      ]
     },
     "metadata": {
      "needs_background": "light"
     }
    }
   ],
   "metadata": {}
  },
  {
   "cell_type": "markdown",
   "source": [
    "# Using All Columns"
   ],
   "metadata": {}
  },
  {
   "cell_type": "code",
   "execution_count": 99,
   "source": [
    "df = pd.read_csv(\"./data/train_dataset.csv\")"
   ],
   "outputs": [],
   "metadata": {}
  },
  {
   "cell_type": "code",
   "execution_count": 100,
   "source": [
    "df.loc[df['next_month_plan'] == 'PKG1', 'next_month_plan'] = 1\n",
    "df.loc[df['next_month_plan'] == 'PKG2', 'next_month_plan'] = 2\n",
    "df.loc[df['next_month_plan'] == 'PKG3', 'next_month_plan'] = 3\n",
    "df.loc[df['next_month_plan'] == 'PKG4', 'next_month_plan'] = 4\n",
    "df.loc[df['next_month_plan'] == 'PKG5', 'next_month_plan'] = 5\n",
    "df.loc[df['next_month_plan'] == 'PKG6', 'next_month_plan'] = 6\n",
    "df.loc[df['next_month_plan'] == 'PKG7', 'next_month_plan'] = 7\n",
    "df.loc[df['next_month_plan'] == 'PKG8', 'next_month_plan'] = 8\n",
    "\n",
    "df['device_type'] = pd.factorize(df['device_type'],na_sentinel=None)[0]\n",
    "df['device_category'] = pd.factorize(df['device_category'],na_sentinel=None)[0]\n",
    "df['gender'] = pd.factorize(df['gender'],na_sentinel=None)[0]\n",
    "df['district_name'] = pd.factorize(df['district_name'],na_sentinel=None)[0]\n",
    "df['age_group'] = pd.factorize(df['age_group'],na_sentinel=None)[0]"
   ],
   "outputs": [],
   "metadata": {}
  },
  {
   "cell_type": "code",
   "execution_count": 101,
   "source": [
    "df = df.dropna(axis=0)\n",
    "train_df = df.drop(['next_month_plan'],axis=1)\n",
    "X = train_df.to_numpy()\n",
    "Y = df['next_month_plan']\n",
    "Y = Y.to_numpy()\n",
    "Y = Y.astype('int')"
   ],
   "outputs": [],
   "metadata": {}
  },
  {
   "cell_type": "code",
   "execution_count": 102,
   "source": [
    "features = df.columns"
   ],
   "outputs": [],
   "metadata": {}
  },
  {
   "cell_type": "code",
   "execution_count": 103,
   "source": [
    "features = features.drop(['next_month_plan'])"
   ],
   "outputs": [],
   "metadata": {}
  },
  {
   "cell_type": "code",
   "execution_count": 104,
   "source": [
    "features = features.to_numpy()"
   ],
   "outputs": [],
   "metadata": {}
  },
  {
   "cell_type": "code",
   "execution_count": 105,
   "source": [
    "forest = RandomForestClassifier(random_state=0)\n",
    "forest.fit(X, Y)"
   ],
   "outputs": [
    {
     "output_type": "execute_result",
     "data": {
      "text/plain": [
       "RandomForestClassifier(random_state=0)"
      ]
     },
     "metadata": {},
     "execution_count": 105
    }
   ],
   "metadata": {}
  },
  {
   "cell_type": "code",
   "execution_count": 106,
   "source": [
    "start_time = time.time()\n",
    "importances = forest.feature_importances_\n",
    "std = np.std([\n",
    "    tree.feature_importances_ for tree in forest.estimators_], axis=0)\n",
    "elapsed_time = time.time() - start_time\n",
    "\n",
    "print(f\"Elapsed time to compute the importances: \"\n",
    "      f\"{elapsed_time:.3f} seconds\")"
   ],
   "outputs": [
    {
     "output_type": "stream",
     "name": "stdout",
     "text": [
      "Elapsed time to compute the importances: 0.012 seconds\n"
     ]
    }
   ],
   "metadata": {}
  },
  {
   "cell_type": "code",
   "execution_count": 107,
   "source": [
    "forest_importances = pd.Series(importances, index=features)\n",
    "plt.rcParams[\"figure.figsize\"] = (15,8)\n",
    "fig, ax = plt.subplots()\n",
    "forest_importances.plot.bar(yerr=std, ax=ax)\n",
    "ax.set_title(\"Feature importances using MDI\")\n",
    "ax.set_ylabel(\"Mean decrease in impurity\")\n",
    "fig.tight_layout()"
   ],
   "outputs": [
    {
     "output_type": "display_data",
     "data": {
      "image/png": "[encoded data removed]",
      "text/plain": [
       "<Figure size 1080x576 with 1 Axes>"
      ]
     },
     "metadata": {
      "needs_background": "light"
     }
    }
   ],
   "metadata": {}
  },
  {
   "cell_type": "code",
   "execution_count": 108,
   "source": [
    "from sklearn.inspection import permutation_importance\n",
    "\n",
    "start_time = time.time()\n",
    "result = permutation_importance(\n",
    "    forest, X, Y, n_repeats=10, random_state=42, n_jobs=2)\n",
    "elapsed_time = time.time() - start_time\n",
    "print(f\"Elapsed time to compute the importances: \"\n",
    "      f\"{elapsed_time:.3f} seconds\")\n",
    "\n",
    "forest_importances = pd.Series(result.importances_mean, index=features)"
   ],
   "outputs": [
    {
     "output_type": "stream",
     "name": "stdout",
     "text": [
      "Elapsed time to compute the importances: 5.023 seconds\n"
     ]
    }
   ],
   "metadata": {}
  },
  {
   "cell_type": "code",
   "execution_count": 109,
   "source": [
    "plt.rcParams[\"figure.figsize\"] = (15,8)\n",
    "fig, ax = plt.subplots()\n",
    "forest_importances.plot.bar(yerr=result.importances_std, ax=ax)\n",
    "ax.set_title(\"Feature importances using permutation on full model\")\n",
    "ax.set_ylabel(\"Mean accuracy decrease\")\n",
    "fig.tight_layout()\n",
    "plt.show()"
   ],
   "outputs": [
    {
     "output_type": "display_data",
     "data": {
      "image/png": "[encoded data removed]",
      "text/plain": [
       "<Figure size 1080x576 with 1 Axes>"
      ]
     },
     "metadata": {
      "needs_background": "light"
     }
    }
   ],
   "metadata": {}
  },
  {
   "cell_type": "code",
   "execution_count": 131,
   "source": [
    "df = pd.read_csv(\"./data/train_dataset.csv\")"
   ],
   "outputs": [],
   "metadata": {}
  },
  {
   "cell_type": "code",
   "execution_count": 132,
   "source": [
    "for i in range(len(df)):\n",
    "    Sum_dusage = df.iloc[i]['dusage_sum']\n",
    "    days_dusage = df.iloc[i]['dusage_days']\n",
    "    \n",
    "    avg_dusage = Sum_dusage/days_dusage if days_dusage>0 else 0\n",
    "    \n",
    "    Sum_vusage_onnet = df.iloc[i]['vusage_onnet_sum']\n",
    "    days_vusage_onnet = df.iloc[i]['vusage_onnet_days']\n",
    "    \n",
    "    avg_vusage_onnet = Sum_vusage_onnet/days_vusage_onnet if days_vusage_onnet>0 else 0\n",
    "    \n",
    "    Sum_vusage_offnet = df.iloc[i]['vusage_offnet_sum']\n",
    "    days_vusage_offnet = df.iloc[i]['vusage_offnet_days']\n",
    "    \n",
    "    avg_vusage_offnet = Sum_vusage_offnet/days_vusage_offnet if days_vusage_offnet>0 else 0\n",
    "    \n",
    "    df.loc[i,'dusage_avg'] = avg_dusage\n",
    "    df.loc[i,'vusage_onnet_avg'] = avg_vusage_onnet\n",
    "    df.loc[i,'vusage_offnet_avg'] = avg_vusage_offnet\n",
    "    "
   ],
   "outputs": [],
   "metadata": {}
  },
  {
   "cell_type": "code",
   "execution_count": 137,
   "source": [
    "df.isnull().sum()"
   ],
   "outputs": [
    {
     "output_type": "execute_result",
     "data": {
      "text/plain": [
       "primary_identifier                0\n",
       "device_type                      23\n",
       "device_category                  30\n",
       "gender                          135\n",
       "district_name                     0\n",
       "age_group                       135\n",
       "network_stay                      0\n",
       "average_monthly_bill_amount       0\n",
       "dusage_sum                        0\n",
       "dusage_min                        0\n",
       "dusage_max                        0\n",
       "dusage_avg                        0\n",
       "dusage_days                       0\n",
       "dusage_stddev                     0\n",
       "vusage_onnet_sum                  0\n",
       "vusage_onnet_max                  0\n",
       "vusage_onnet_min                  0\n",
       "vusage_onnet_days                 0\n",
       "vusage_onnet_avg                  0\n",
       "vusage_onnet_stddev               0\n",
       "vusage_offnet_sum                 0\n",
       "vusage_offnet_max                 0\n",
       "vusage_offnet_min                 0\n",
       "vusage_offnet_days                0\n",
       "vusage_offnet_avg                 0\n",
       "vusage_offnet_stddev              0\n",
       "number_of_fixed_bb_accounts       0\n",
       "number_of_iptv_accounts           0\n",
       "add_on_tot_rental              3833\n",
       "add_on_count                   3833\n",
       "next_month_plan                   0\n",
       "dtype: int64"
      ]
     },
     "metadata": {},
     "execution_count": 137
    }
   ],
   "metadata": {}
  },
  {
   "cell_type": "code",
   "execution_count": 140,
   "source": [
    "df.to_csv(\"processed_train_dataset.csv\", encoding='utf-8', index=False)"
   ],
   "outputs": [],
   "metadata": {}
  },
  {
   "cell_type": "markdown",
   "source": [
    "# Boruta"
   ],
   "metadata": {}
  },
  {
   "cell_type": "code",
   "execution_count": 27,
   "source": [
    "from boruta import BorutaPy"
   ],
   "outputs": [],
   "metadata": {}
  },
  {
   "cell_type": "code",
   "execution_count": 28,
   "source": [
    "forest = RandomForestClassifier(random_state=0)"
   ],
   "outputs": [],
   "metadata": {}
  },
  {
   "cell_type": "code",
   "execution_count": 29,
   "source": [
    "feat_selector = BorutaPy(forest, n_estimators='auto', verbose=2, random_state=1,max_iter=500)\n",
    "feat_selector.fit(X, Y)"
   ],
   "outputs": [
    {
     "output_type": "stream",
     "name": "stdout",
     "text": [
      "Iteration: \t1 / 500\n",
      "Confirmed: \t0\n",
      "Tentative: \t25\n",
      "Rejected: \t0\n",
      "Iteration: \t2 / 500\n",
      "Confirmed: \t0\n",
      "Tentative: \t25\n",
      "Rejected: \t0\n",
      "Iteration: \t3 / 500\n",
      "Confirmed: \t0\n",
      "Tentative: \t25\n",
      "Rejected: \t0\n",
      "Iteration: \t4 / 500\n",
      "Confirmed: \t0\n",
      "Tentative: \t25\n",
      "Rejected: \t0\n",
      "Iteration: \t5 / 500\n",
      "Confirmed: \t0\n",
      "Tentative: \t25\n",
      "Rejected: \t0\n",
      "Iteration: \t6 / 500\n",
      "Confirmed: \t0\n",
      "Tentative: \t25\n",
      "Rejected: \t0\n",
      "Iteration: \t7 / 500\n",
      "Confirmed: \t0\n",
      "Tentative: \t25\n",
      "Rejected: \t0\n",
      "Iteration: \t8 / 500\n",
      "Confirmed: \t8\n",
      "Tentative: \t2\n",
      "Rejected: \t15\n",
      "Iteration: \t9 / 500\n",
      "Confirmed: \t8\n",
      "Tentative: \t2\n",
      "Rejected: \t15\n",
      "Iteration: \t10 / 500\n",
      "Confirmed: \t8\n",
      "Tentative: \t2\n",
      "Rejected: \t15\n",
      "Iteration: \t11 / 500\n",
      "Confirmed: \t8\n",
      "Tentative: \t2\n",
      "Rejected: \t15\n",
      "Iteration: \t12 / 500\n",
      "Confirmed: \t8\n",
      "Tentative: \t2\n",
      "Rejected: \t15\n",
      "Iteration: \t13 / 500\n",
      "Confirmed: \t8\n",
      "Tentative: \t2\n",
      "Rejected: \t15\n",
      "Iteration: \t14 / 500\n",
      "Confirmed: \t8\n",
      "Tentative: \t2\n",
      "Rejected: \t15\n",
      "Iteration: \t15 / 500\n",
      "Confirmed: \t8\n",
      "Tentative: \t2\n",
      "Rejected: \t15\n",
      "Iteration: \t16 / 500\n",
      "Confirmed: \t8\n",
      "Tentative: \t2\n",
      "Rejected: \t15\n",
      "Iteration: \t17 / 500\n",
      "Confirmed: \t8\n",
      "Tentative: \t2\n",
      "Rejected: \t15\n",
      "Iteration: \t18 / 500\n",
      "Confirmed: \t8\n",
      "Tentative: \t2\n",
      "Rejected: \t15\n",
      "Iteration: \t19 / 500\n",
      "Confirmed: \t8\n",
      "Tentative: \t2\n",
      "Rejected: \t15\n",
      "Iteration: \t20 / 500\n",
      "Confirmed: \t8\n",
      "Tentative: \t2\n",
      "Rejected: \t15\n",
      "Iteration: \t21 / 500\n",
      "Confirmed: \t8\n",
      "Tentative: \t2\n",
      "Rejected: \t15\n",
      "Iteration: \t22 / 500\n",
      "Confirmed: \t8\n",
      "Tentative: \t2\n",
      "Rejected: \t15\n",
      "Iteration: \t23 / 500\n",
      "Confirmed: \t8\n",
      "Tentative: \t2\n",
      "Rejected: \t15\n",
      "Iteration: \t24 / 500\n",
      "Confirmed: \t8\n",
      "Tentative: \t2\n",
      "Rejected: \t15\n",
      "Iteration: \t25 / 500\n",
      "Confirmed: \t8\n",
      "Tentative: \t2\n",
      "Rejected: \t15\n",
      "Iteration: \t26 / 500\n",
      "Confirmed: \t8\n",
      "Tentative: \t1\n",
      "Rejected: \t16\n",
      "Iteration: \t27 / 500\n",
      "Confirmed: \t8\n",
      "Tentative: \t1\n",
      "Rejected: \t16\n",
      "Iteration: \t28 / 500\n",
      "Confirmed: \t8\n",
      "Tentative: \t1\n",
      "Rejected: \t16\n",
      "Iteration: \t29 / 500\n",
      "Confirmed: \t8\n",
      "Tentative: \t1\n",
      "Rejected: \t16\n",
      "Iteration: \t30 / 500\n",
      "Confirmed: \t8\n",
      "Tentative: \t1\n",
      "Rejected: \t16\n",
      "Iteration: \t31 / 500\n",
      "Confirmed: \t8\n",
      "Tentative: \t1\n",
      "Rejected: \t16\n",
      "Iteration: \t32 / 500\n",
      "Confirmed: \t8\n",
      "Tentative: \t1\n",
      "Rejected: \t16\n",
      "Iteration: \t33 / 500\n",
      "Confirmed: \t8\n",
      "Tentative: \t1\n",
      "Rejected: \t16\n",
      "Iteration: \t34 / 500\n",
      "Confirmed: \t8\n",
      "Tentative: \t1\n",
      "Rejected: \t16\n",
      "Iteration: \t35 / 500\n",
      "Confirmed: \t8\n",
      "Tentative: \t1\n",
      "Rejected: \t16\n",
      "Iteration: \t36 / 500\n",
      "Confirmed: \t8\n",
      "Tentative: \t1\n",
      "Rejected: \t16\n",
      "Iteration: \t37 / 500\n",
      "Confirmed: \t8\n",
      "Tentative: \t1\n",
      "Rejected: \t16\n",
      "Iteration: \t38 / 500\n",
      "Confirmed: \t8\n",
      "Tentative: \t1\n",
      "Rejected: \t16\n",
      "Iteration: \t39 / 500\n",
      "Confirmed: \t8\n",
      "Tentative: \t1\n",
      "Rejected: \t16\n",
      "Iteration: \t40 / 500\n",
      "Confirmed: \t8\n",
      "Tentative: \t1\n",
      "Rejected: \t16\n",
      "Iteration: \t41 / 500\n",
      "Confirmed: \t8\n",
      "Tentative: \t1\n",
      "Rejected: \t16\n",
      "Iteration: \t42 / 500\n",
      "Confirmed: \t8\n",
      "Tentative: \t1\n",
      "Rejected: \t16\n",
      "Iteration: \t43 / 500\n",
      "Confirmed: \t8\n",
      "Tentative: \t1\n",
      "Rejected: \t16\n",
      "Iteration: \t44 / 500\n",
      "Confirmed: \t8\n",
      "Tentative: \t1\n",
      "Rejected: \t16\n",
      "Iteration: \t45 / 500\n",
      "Confirmed: \t8\n",
      "Tentative: \t1\n",
      "Rejected: \t16\n",
      "Iteration: \t46 / 500\n",
      "Confirmed: \t8\n",
      "Tentative: \t1\n",
      "Rejected: \t16\n",
      "Iteration: \t47 / 500\n",
      "Confirmed: \t8\n",
      "Tentative: \t1\n",
      "Rejected: \t16\n",
      "Iteration: \t48 / 500\n",
      "Confirmed: \t8\n",
      "Tentative: \t1\n",
      "Rejected: \t16\n",
      "Iteration: \t49 / 500\n",
      "Confirmed: \t8\n",
      "Tentative: \t1\n",
      "Rejected: \t16\n",
      "Iteration: \t50 / 500\n",
      "Confirmed: \t8\n",
      "Tentative: \t1\n",
      "Rejected: \t16\n",
      "Iteration: \t51 / 500\n",
      "Confirmed: \t8\n",
      "Tentative: \t1\n",
      "Rejected: \t16\n",
      "Iteration: \t52 / 500\n",
      "Confirmed: \t8\n",
      "Tentative: \t1\n",
      "Rejected: \t16\n",
      "Iteration: \t53 / 500\n",
      "Confirmed: \t8\n",
      "Tentative: \t1\n",
      "Rejected: \t16\n",
      "Iteration: \t54 / 500\n",
      "Confirmed: \t8\n",
      "Tentative: \t1\n",
      "Rejected: \t16\n",
      "Iteration: \t55 / 500\n",
      "Confirmed: \t8\n",
      "Tentative: \t1\n",
      "Rejected: \t16\n",
      "Iteration: \t56 / 500\n",
      "Confirmed: \t8\n",
      "Tentative: \t1\n",
      "Rejected: \t16\n",
      "Iteration: \t57 / 500\n",
      "Confirmed: \t8\n",
      "Tentative: \t1\n",
      "Rejected: \t16\n",
      "Iteration: \t58 / 500\n",
      "Confirmed: \t8\n",
      "Tentative: \t1\n",
      "Rejected: \t16\n",
      "Iteration: \t59 / 500\n",
      "Confirmed: \t8\n",
      "Tentative: \t1\n",
      "Rejected: \t16\n",
      "Iteration: \t60 / 500\n",
      "Confirmed: \t8\n",
      "Tentative: \t1\n",
      "Rejected: \t16\n",
      "Iteration: \t61 / 500\n",
      "Confirmed: \t8\n",
      "Tentative: \t1\n",
      "Rejected: \t16\n",
      "Iteration: \t62 / 500\n",
      "Confirmed: \t8\n",
      "Tentative: \t1\n",
      "Rejected: \t16\n",
      "Iteration: \t63 / 500\n",
      "Confirmed: \t8\n",
      "Tentative: \t1\n",
      "Rejected: \t16\n",
      "Iteration: \t64 / 500\n",
      "Confirmed: \t8\n",
      "Tentative: \t1\n",
      "Rejected: \t16\n",
      "Iteration: \t65 / 500\n",
      "Confirmed: \t8\n",
      "Tentative: \t1\n",
      "Rejected: \t16\n",
      "Iteration: \t66 / 500\n",
      "Confirmed: \t8\n",
      "Tentative: \t1\n",
      "Rejected: \t16\n",
      "Iteration: \t67 / 500\n",
      "Confirmed: \t8\n",
      "Tentative: \t1\n",
      "Rejected: \t16\n",
      "Iteration: \t68 / 500\n",
      "Confirmed: \t8\n",
      "Tentative: \t1\n",
      "Rejected: \t16\n",
      "Iteration: \t69 / 500\n",
      "Confirmed: \t8\n",
      "Tentative: \t1\n",
      "Rejected: \t16\n",
      "Iteration: \t70 / 500\n",
      "Confirmed: \t8\n",
      "Tentative: \t1\n",
      "Rejected: \t16\n",
      "Iteration: \t71 / 500\n",
      "Confirmed: \t8\n",
      "Tentative: \t1\n",
      "Rejected: \t16\n",
      "Iteration: \t72 / 500\n",
      "Confirmed: \t8\n",
      "Tentative: \t1\n",
      "Rejected: \t16\n",
      "Iteration: \t73 / 500\n",
      "Confirmed: \t8\n",
      "Tentative: \t1\n",
      "Rejected: \t16\n",
      "Iteration: \t74 / 500\n",
      "Confirmed: \t8\n",
      "Tentative: \t1\n",
      "Rejected: \t16\n",
      "Iteration: \t75 / 500\n",
      "Confirmed: \t8\n",
      "Tentative: \t1\n",
      "Rejected: \t16\n",
      "Iteration: \t76 / 500\n",
      "Confirmed: \t8\n",
      "Tentative: \t1\n",
      "Rejected: \t16\n",
      "Iteration: \t77 / 500\n",
      "Confirmed: \t8\n",
      "Tentative: \t1\n",
      "Rejected: \t16\n",
      "Iteration: \t78 / 500\n",
      "Confirmed: \t8\n",
      "Tentative: \t1\n",
      "Rejected: \t16\n",
      "Iteration: \t79 / 500\n",
      "Confirmed: \t8\n",
      "Tentative: \t1\n",
      "Rejected: \t16\n",
      "Iteration: \t80 / 500\n",
      "Confirmed: \t8\n",
      "Tentative: \t1\n",
      "Rejected: \t16\n",
      "Iteration: \t81 / 500\n",
      "Confirmed: \t8\n",
      "Tentative: \t1\n",
      "Rejected: \t16\n",
      "Iteration: \t82 / 500\n",
      "Confirmed: \t8\n",
      "Tentative: \t1\n",
      "Rejected: \t16\n",
      "Iteration: \t83 / 500\n",
      "Confirmed: \t8\n",
      "Tentative: \t1\n",
      "Rejected: \t16\n",
      "Iteration: \t84 / 500\n",
      "Confirmed: \t8\n",
      "Tentative: \t1\n",
      "Rejected: \t16\n",
      "Iteration: \t85 / 500\n",
      "Confirmed: \t8\n",
      "Tentative: \t1\n",
      "Rejected: \t16\n",
      "Iteration: \t86 / 500\n",
      "Confirmed: \t8\n",
      "Tentative: \t1\n",
      "Rejected: \t16\n",
      "Iteration: \t87 / 500\n",
      "Confirmed: \t8\n",
      "Tentative: \t1\n",
      "Rejected: \t16\n",
      "Iteration: \t88 / 500\n",
      "Confirmed: \t8\n",
      "Tentative: \t1\n",
      "Rejected: \t16\n",
      "Iteration: \t89 / 500\n",
      "Confirmed: \t8\n",
      "Tentative: \t1\n",
      "Rejected: \t16\n",
      "Iteration: \t90 / 500\n",
      "Confirmed: \t8\n",
      "Tentative: \t1\n",
      "Rejected: \t16\n",
      "Iteration: \t91 / 500\n",
      "Confirmed: \t8\n",
      "Tentative: \t1\n",
      "Rejected: \t16\n",
      "Iteration: \t92 / 500\n",
      "Confirmed: \t8\n",
      "Tentative: \t1\n",
      "Rejected: \t16\n",
      "Iteration: \t93 / 500\n",
      "Confirmed: \t8\n",
      "Tentative: \t1\n",
      "Rejected: \t16\n",
      "Iteration: \t94 / 500\n",
      "Confirmed: \t8\n",
      "Tentative: \t1\n",
      "Rejected: \t16\n",
      "Iteration: \t95 / 500\n",
      "Confirmed: \t8\n",
      "Tentative: \t1\n",
      "Rejected: \t16\n",
      "Iteration: \t96 / 500\n",
      "Confirmed: \t8\n",
      "Tentative: \t1\n",
      "Rejected: \t16\n",
      "Iteration: \t97 / 500\n",
      "Confirmed: \t8\n",
      "Tentative: \t1\n",
      "Rejected: \t16\n",
      "Iteration: \t98 / 500\n",
      "Confirmed: \t8\n",
      "Tentative: \t1\n",
      "Rejected: \t16\n",
      "Iteration: \t99 / 500\n",
      "Confirmed: \t8\n",
      "Tentative: \t1\n",
      "Rejected: \t16\n",
      "Iteration: \t100 / 500\n",
      "Confirmed: \t8\n",
      "Tentative: \t1\n",
      "Rejected: \t16\n",
      "Iteration: \t101 / 500\n",
      "Confirmed: \t8\n",
      "Tentative: \t1\n",
      "Rejected: \t16\n",
      "Iteration: \t102 / 500\n",
      "Confirmed: \t8\n",
      "Tentative: \t1\n",
      "Rejected: \t16\n",
      "Iteration: \t103 / 500\n",
      "Confirmed: \t8\n",
      "Tentative: \t1\n",
      "Rejected: \t16\n",
      "Iteration: \t104 / 500\n",
      "Confirmed: \t8\n",
      "Tentative: \t1\n",
      "Rejected: \t16\n",
      "Iteration: \t105 / 500\n",
      "Confirmed: \t8\n",
      "Tentative: \t1\n",
      "Rejected: \t16\n",
      "Iteration: \t106 / 500\n",
      "Confirmed: \t8\n",
      "Tentative: \t1\n",
      "Rejected: \t16\n",
      "Iteration: \t107 / 500\n",
      "Confirmed: \t8\n",
      "Tentative: \t1\n",
      "Rejected: \t16\n",
      "Iteration: \t108 / 500\n",
      "Confirmed: \t8\n",
      "Tentative: \t1\n",
      "Rejected: \t16\n",
      "Iteration: \t109 / 500\n",
      "Confirmed: \t8\n",
      "Tentative: \t1\n",
      "Rejected: \t16\n",
      "Iteration: \t110 / 500\n",
      "Confirmed: \t8\n",
      "Tentative: \t1\n",
      "Rejected: \t16\n",
      "Iteration: \t111 / 500\n",
      "Confirmed: \t8\n",
      "Tentative: \t1\n",
      "Rejected: \t16\n",
      "Iteration: \t112 / 500\n",
      "Confirmed: \t8\n",
      "Tentative: \t1\n",
      "Rejected: \t16\n",
      "Iteration: \t113 / 500\n",
      "Confirmed: \t8\n",
      "Tentative: \t1\n",
      "Rejected: \t16\n",
      "Iteration: \t114 / 500\n",
      "Confirmed: \t8\n",
      "Tentative: \t1\n",
      "Rejected: \t16\n",
      "Iteration: \t115 / 500\n",
      "Confirmed: \t8\n",
      "Tentative: \t1\n",
      "Rejected: \t16\n",
      "Iteration: \t116 / 500\n",
      "Confirmed: \t8\n",
      "Tentative: \t1\n",
      "Rejected: \t16\n",
      "Iteration: \t117 / 500\n",
      "Confirmed: \t8\n",
      "Tentative: \t1\n",
      "Rejected: \t16\n",
      "Iteration: \t118 / 500\n",
      "Confirmed: \t8\n",
      "Tentative: \t1\n",
      "Rejected: \t16\n",
      "Iteration: \t119 / 500\n",
      "Confirmed: \t8\n",
      "Tentative: \t1\n",
      "Rejected: \t16\n",
      "Iteration: \t120 / 500\n",
      "Confirmed: \t8\n",
      "Tentative: \t1\n",
      "Rejected: \t16\n",
      "Iteration: \t121 / 500\n",
      "Confirmed: \t8\n",
      "Tentative: \t1\n",
      "Rejected: \t16\n",
      "Iteration: \t122 / 500\n",
      "Confirmed: \t8\n",
      "Tentative: \t1\n",
      "Rejected: \t16\n",
      "Iteration: \t123 / 500\n",
      "Confirmed: \t8\n",
      "Tentative: \t1\n",
      "Rejected: \t16\n",
      "Iteration: \t124 / 500\n",
      "Confirmed: \t8\n",
      "Tentative: \t1\n",
      "Rejected: \t16\n",
      "Iteration: \t125 / 500\n",
      "Confirmed: \t8\n",
      "Tentative: \t1\n",
      "Rejected: \t16\n",
      "Iteration: \t126 / 500\n",
      "Confirmed: \t8\n",
      "Tentative: \t1\n",
      "Rejected: \t16\n",
      "Iteration: \t127 / 500\n",
      "Confirmed: \t8\n",
      "Tentative: \t1\n",
      "Rejected: \t16\n",
      "Iteration: \t128 / 500\n",
      "Confirmed: \t8\n",
      "Tentative: \t1\n",
      "Rejected: \t16\n",
      "Iteration: \t129 / 500\n",
      "Confirmed: \t8\n",
      "Tentative: \t1\n",
      "Rejected: \t16\n",
      "Iteration: \t130 / 500\n",
      "Confirmed: \t8\n",
      "Tentative: \t1\n",
      "Rejected: \t16\n"
     ]
    },
    {
     "output_type": "stream",
     "name": "stdout",
     "text": [
      "Iteration: \t131 / 500\n",
      "Confirmed: \t8\n",
      "Tentative: \t1\n",
      "Rejected: \t16\n",
      "Iteration: \t132 / 500\n",
      "Confirmed: \t8\n",
      "Tentative: \t1\n",
      "Rejected: \t16\n",
      "Iteration: \t133 / 500\n",
      "Confirmed: \t8\n",
      "Tentative: \t1\n",
      "Rejected: \t16\n",
      "Iteration: \t134 / 500\n",
      "Confirmed: \t8\n",
      "Tentative: \t1\n",
      "Rejected: \t16\n",
      "Iteration: \t135 / 500\n",
      "Confirmed: \t8\n",
      "Tentative: \t1\n",
      "Rejected: \t16\n",
      "Iteration: \t136 / 500\n",
      "Confirmed: \t8\n",
      "Tentative: \t1\n",
      "Rejected: \t16\n",
      "Iteration: \t137 / 500\n",
      "Confirmed: \t8\n",
      "Tentative: \t1\n",
      "Rejected: \t16\n",
      "Iteration: \t138 / 500\n",
      "Confirmed: \t8\n",
      "Tentative: \t1\n",
      "Rejected: \t16\n",
      "Iteration: \t139 / 500\n",
      "Confirmed: \t8\n",
      "Tentative: \t1\n",
      "Rejected: \t16\n",
      "Iteration: \t140 / 500\n",
      "Confirmed: \t8\n",
      "Tentative: \t1\n",
      "Rejected: \t16\n",
      "Iteration: \t141 / 500\n",
      "Confirmed: \t8\n",
      "Tentative: \t1\n",
      "Rejected: \t16\n",
      "Iteration: \t142 / 500\n",
      "Confirmed: \t8\n",
      "Tentative: \t1\n",
      "Rejected: \t16\n",
      "Iteration: \t143 / 500\n",
      "Confirmed: \t8\n",
      "Tentative: \t1\n",
      "Rejected: \t16\n",
      "Iteration: \t144 / 500\n",
      "Confirmed: \t8\n",
      "Tentative: \t1\n",
      "Rejected: \t16\n",
      "Iteration: \t145 / 500\n",
      "Confirmed: \t8\n",
      "Tentative: \t1\n",
      "Rejected: \t16\n",
      "Iteration: \t146 / 500\n",
      "Confirmed: \t8\n",
      "Tentative: \t1\n",
      "Rejected: \t16\n",
      "Iteration: \t147 / 500\n",
      "Confirmed: \t8\n",
      "Tentative: \t1\n",
      "Rejected: \t16\n",
      "Iteration: \t148 / 500\n",
      "Confirmed: \t8\n",
      "Tentative: \t1\n",
      "Rejected: \t16\n",
      "Iteration: \t149 / 500\n",
      "Confirmed: \t8\n",
      "Tentative: \t1\n",
      "Rejected: \t16\n",
      "Iteration: \t150 / 500\n",
      "Confirmed: \t8\n",
      "Tentative: \t1\n",
      "Rejected: \t16\n",
      "Iteration: \t151 / 500\n",
      "Confirmed: \t8\n",
      "Tentative: \t1\n",
      "Rejected: \t16\n",
      "Iteration: \t152 / 500\n",
      "Confirmed: \t8\n",
      "Tentative: \t1\n",
      "Rejected: \t16\n",
      "Iteration: \t153 / 500\n",
      "Confirmed: \t8\n",
      "Tentative: \t1\n",
      "Rejected: \t16\n",
      "Iteration: \t154 / 500\n",
      "Confirmed: \t8\n",
      "Tentative: \t1\n",
      "Rejected: \t16\n",
      "Iteration: \t155 / 500\n",
      "Confirmed: \t8\n",
      "Tentative: \t1\n",
      "Rejected: \t16\n",
      "Iteration: \t156 / 500\n",
      "Confirmed: \t8\n",
      "Tentative: \t1\n",
      "Rejected: \t16\n",
      "Iteration: \t157 / 500\n",
      "Confirmed: \t8\n",
      "Tentative: \t1\n",
      "Rejected: \t16\n",
      "Iteration: \t158 / 500\n",
      "Confirmed: \t8\n",
      "Tentative: \t1\n",
      "Rejected: \t16\n",
      "Iteration: \t159 / 500\n",
      "Confirmed: \t8\n",
      "Tentative: \t1\n",
      "Rejected: \t16\n",
      "Iteration: \t160 / 500\n",
      "Confirmed: \t8\n",
      "Tentative: \t1\n",
      "Rejected: \t16\n",
      "Iteration: \t161 / 500\n",
      "Confirmed: \t8\n",
      "Tentative: \t1\n",
      "Rejected: \t16\n",
      "Iteration: \t162 / 500\n",
      "Confirmed: \t8\n",
      "Tentative: \t1\n",
      "Rejected: \t16\n",
      "Iteration: \t163 / 500\n",
      "Confirmed: \t8\n",
      "Tentative: \t1\n",
      "Rejected: \t16\n",
      "Iteration: \t164 / 500\n",
      "Confirmed: \t8\n",
      "Tentative: \t1\n",
      "Rejected: \t16\n",
      "Iteration: \t165 / 500\n",
      "Confirmed: \t8\n",
      "Tentative: \t1\n",
      "Rejected: \t16\n",
      "Iteration: \t166 / 500\n",
      "Confirmed: \t8\n",
      "Tentative: \t1\n",
      "Rejected: \t16\n",
      "Iteration: \t167 / 500\n",
      "Confirmed: \t8\n",
      "Tentative: \t1\n",
      "Rejected: \t16\n",
      "Iteration: \t168 / 500\n",
      "Confirmed: \t8\n",
      "Tentative: \t1\n",
      "Rejected: \t16\n",
      "Iteration: \t169 / 500\n",
      "Confirmed: \t8\n",
      "Tentative: \t1\n",
      "Rejected: \t16\n",
      "Iteration: \t170 / 500\n",
      "Confirmed: \t8\n",
      "Tentative: \t1\n",
      "Rejected: \t16\n",
      "Iteration: \t171 / 500\n",
      "Confirmed: \t8\n",
      "Tentative: \t1\n",
      "Rejected: \t16\n",
      "Iteration: \t172 / 500\n",
      "Confirmed: \t8\n",
      "Tentative: \t1\n",
      "Rejected: \t16\n",
      "Iteration: \t173 / 500\n",
      "Confirmed: \t8\n",
      "Tentative: \t1\n",
      "Rejected: \t16\n",
      "Iteration: \t174 / 500\n",
      "Confirmed: \t8\n",
      "Tentative: \t1\n",
      "Rejected: \t16\n",
      "Iteration: \t175 / 500\n",
      "Confirmed: \t9\n",
      "Tentative: \t0\n",
      "Rejected: \t16\n",
      "\n",
      "\n",
      "BorutaPy finished running.\n",
      "\n",
      "Iteration: \t176 / 500\n",
      "Confirmed: \t9\n",
      "Tentative: \t0\n",
      "Rejected: \t16\n"
     ]
    },
    {
     "output_type": "execute_result",
     "data": {
      "text/plain": [
       "BorutaPy(estimator=RandomForestClassifier(n_estimators=42,\n",
       "                                          random_state=RandomState(MT19937) at 0x14596614EB8),\n",
       "         max_iter=500, n_estimators='auto',\n",
       "         random_state=RandomState(MT19937) at 0x14596614EB8, verbose=2)"
      ]
     },
     "metadata": {},
     "execution_count": 29
    }
   ],
   "metadata": {}
  },
  {
   "cell_type": "code",
   "execution_count": 30,
   "source": [
    "feat_selector.support_\n",
    "\n",
    "# check ranking of features\n",
    "feat_selector.ranking_"
   ],
   "outputs": [
    {
     "output_type": "execute_result",
     "data": {
      "text/plain": [
       "array([ 1, 13, 14, 11,  4,  5,  1,  1,  1,  3,  1,  6,  1,  9,  8, 17, 10,\n",
       "        7,  2,  1, 16,  1,  1, 15, 12])"
      ]
     },
     "metadata": {},
     "execution_count": 30
    }
   ],
   "metadata": {}
  },
  {
   "cell_type": "code",
   "execution_count": 31,
   "source": [
    "X_filtered = feat_selector.transform(X)"
   ],
   "outputs": [],
   "metadata": {}
  },
  {
   "cell_type": "code",
   "execution_count": 32,
   "source": [
    "feat_selector.support_"
   ],
   "outputs": [
    {
     "output_type": "execute_result",
     "data": {
      "text/plain": [
       "array([ True, False, False, False, False, False,  True,  True,  True,\n",
       "       False,  True, False,  True, False, False, False, False, False,\n",
       "       False,  True, False,  True,  True, False, False])"
      ]
     },
     "metadata": {},
     "execution_count": 32
    }
   ],
   "metadata": {}
  },
  {
   "cell_type": "code",
   "execution_count": 24,
   "source": [
    "features"
   ],
   "outputs": [
    {
     "output_type": "execute_result",
     "data": {
      "text/plain": [
       "array(['primary_identifier', 'device_type', 'device_category', 'gender',\n",
       "       'district_name', 'age_group', 'network_stay',\n",
       "       'average_monthly_bill_amount', 'dusage_sum', 'dusage_min',\n",
       "       'dusage_max', 'dusage_days', 'dusage_stddev', 'vusage_onnet_sum',\n",
       "       'vusage_onnet_max', 'vusage_onnet_min', 'vusage_onnet_days',\n",
       "       'vusage_onnet_stddev', 'vusage_offnet_sum', 'vusage_offnet_max',\n",
       "       'vusage_offnet_min', 'vusage_offnet_days', 'vusage_offnet_stddev',\n",
       "       'number_of_fixed_bb_accounts', 'number_of_iptv_accounts'],\n",
       "      dtype=object)"
      ]
     },
     "metadata": {},
     "execution_count": 24
    }
   ],
   "metadata": {}
  },
  {
   "cell_type": "code",
   "execution_count": 33,
   "source": [
    "selected_features = []\n",
    "for i,j in zip(features,feat_selector.support_):\n",
    "    if j==True:\n",
    "        selected_features.append(i)"
   ],
   "outputs": [],
   "metadata": {}
  },
  {
   "cell_type": "code",
   "execution_count": 26,
   "source": [
    "selected_features"
   ],
   "outputs": [
    {
     "output_type": "execute_result",
     "data": {
      "text/plain": [
       "['network_stay',\n",
       " 'average_monthly_bill_amount',\n",
       " 'dusage_sum',\n",
       " 'dusage_max',\n",
       " 'dusage_stddev',\n",
       " 'vusage_offnet_max',\n",
       " 'vusage_offnet_days',\n",
       " 'vusage_offnet_stddev']"
      ]
     },
     "metadata": {},
     "execution_count": 26
    }
   ],
   "metadata": {}
  },
  {
   "cell_type": "code",
   "execution_count": 34,
   "source": [
    "selected_features"
   ],
   "outputs": [
    {
     "output_type": "execute_result",
     "data": {
      "text/plain": [
       "['primary_identifier',\n",
       " 'network_stay',\n",
       " 'average_monthly_bill_amount',\n",
       " 'dusage_sum',\n",
       " 'dusage_max',\n",
       " 'dusage_stddev',\n",
       " 'vusage_offnet_max',\n",
       " 'vusage_offnet_days',\n",
       " 'vusage_offnet_stddev']"
      ]
     },
     "metadata": {},
     "execution_count": 34
    }
   ],
   "metadata": {}
  },
  {
   "cell_type": "markdown",
   "source": [
    "# XGBoost"
   ],
   "metadata": {}
  },
  {
   "cell_type": "code",
   "execution_count": 188,
   "source": [
    "import xgboost as xgb"
   ],
   "outputs": [],
   "metadata": {}
  },
  {
   "cell_type": "code",
   "execution_count": 189,
   "source": [
    "dtrain = xgb.DMatrix(X_train, label=y_train)\n",
    "dtest = xgb.DMatrix(X_test, label=y_test)"
   ],
   "outputs": [],
   "metadata": {}
  },
  {
   "cell_type": "code",
   "execution_count": 190,
   "source": [
    "param = {'max_depth': 2, 'eta': 1, 'objective': 'multi:softmax','num_class':'8'}\n",
    "param['nthread'] = 4\n",
    "param['eval_metric'] = 'auc'"
   ],
   "outputs": [],
   "metadata": {}
  },
  {
   "cell_type": "code",
   "execution_count": 191,
   "source": [
    "evallist = [(dtest, 'eval'), (dtrain, 'train')]"
   ],
   "outputs": [],
   "metadata": {}
  },
  {
   "cell_type": "code",
   "execution_count": 195,
   "source": [
    "num_round = 40\n",
    "bst = xgb.train(param, dtrain, num_round, evallist)"
   ],
   "outputs": [
    {
     "output_type": "stream",
     "name": "stdout",
     "text": [
      "[0]\teval-auc:0.79434\ttrain-auc:0.80394\n",
      "[1]\teval-auc:0.83054\ttrain-auc:0.83585\n",
      "[2]\teval-auc:0.83841\ttrain-auc:0.84592\n",
      "[3]\teval-auc:0.84178\ttrain-auc:0.85119\n",
      "[4]\teval-auc:0.84358\ttrain-auc:0.85528\n",
      "[5]\teval-auc:0.84550\ttrain-auc:0.85852\n",
      "[6]\teval-auc:0.84684\ttrain-auc:0.86123\n",
      "[7]\teval-auc:0.84667\ttrain-auc:0.86387\n",
      "[8]\teval-auc:0.84725\ttrain-auc:0.86535\n",
      "[9]\teval-auc:0.84804\ttrain-auc:0.86764\n",
      "[10]\teval-auc:0.84743\ttrain-auc:0.86931\n",
      "[11]\teval-auc:0.84810\ttrain-auc:0.87147\n",
      "[12]\teval-auc:0.84795\ttrain-auc:0.87330\n",
      "[13]\teval-auc:0.84826\ttrain-auc:0.87497\n",
      "[14]\teval-auc:0.84849\ttrain-auc:0.87616\n",
      "[15]\teval-auc:0.84815\ttrain-auc:0.87729\n",
      "[16]\teval-auc:0.84836\ttrain-auc:0.87857\n",
      "[17]\teval-auc:0.84797\ttrain-auc:0.87949\n",
      "[18]\teval-auc:0.84756\ttrain-auc:0.88074\n",
      "[19]\teval-auc:0.84750\ttrain-auc:0.88186\n",
      "[20]\teval-auc:0.84744\ttrain-auc:0.88311\n",
      "[21]\teval-auc:0.84788\ttrain-auc:0.88435\n",
      "[22]\teval-auc:0.84749\ttrain-auc:0.88507\n",
      "[23]\teval-auc:0.84706\ttrain-auc:0.88588\n",
      "[24]\teval-auc:0.84673\ttrain-auc:0.88736\n",
      "[25]\teval-auc:0.84677\ttrain-auc:0.88816\n",
      "[26]\teval-auc:0.84676\ttrain-auc:0.88936\n",
      "[27]\teval-auc:0.84644\ttrain-auc:0.89045\n",
      "[28]\teval-auc:0.84634\ttrain-auc:0.89127\n",
      "[29]\teval-auc:0.84639\ttrain-auc:0.89184\n",
      "[30]\teval-auc:0.84640\ttrain-auc:0.89257\n",
      "[31]\teval-auc:0.84627\ttrain-auc:0.89379\n",
      "[32]\teval-auc:0.84630\ttrain-auc:0.89464\n",
      "[33]\teval-auc:0.84614\ttrain-auc:0.89546\n",
      "[34]\teval-auc:0.84661\ttrain-auc:0.89660\n",
      "[35]\teval-auc:0.84639\ttrain-auc:0.89742\n",
      "[36]\teval-auc:0.84695\ttrain-auc:0.89816\n",
      "[37]\teval-auc:0.84704\ttrain-auc:0.89887\n",
      "[38]\teval-auc:0.84694\ttrain-auc:0.89953\n",
      "[39]\teval-auc:0.84699\ttrain-auc:0.90019\n"
     ]
    }
   ],
   "metadata": {}
  },
  {
   "cell_type": "code",
   "execution_count": 196,
   "source": [
    "bst.save_model('8_features.model')"
   ],
   "outputs": [],
   "metadata": {}
  },
  {
   "cell_type": "code",
   "execution_count": 298,
   "source": [
    "bst = xgb.Booster({'nthread': 4})  # init model\n",
    "bst.load_model('8_features.model')  # load data"
   ],
   "outputs": [],
   "metadata": {}
  },
  {
   "cell_type": "code",
   "execution_count": 299,
   "source": [
    "dtest = xgb.DMatrix(X)"
   ],
   "outputs": [],
   "metadata": {}
  },
  {
   "cell_type": "code",
   "execution_count": 300,
   "source": [
    "ypred = bst.predict(dtest)"
   ],
   "outputs": [],
   "metadata": {}
  },
  {
   "cell_type": "code",
   "execution_count": 301,
   "source": [
    "len(ypred)"
   ],
   "outputs": [
    {
     "output_type": "execute_result",
     "data": {
      "text/plain": [
       "4500"
      ]
     },
     "metadata": {},
     "execution_count": 301
    }
   ],
   "metadata": {}
  },
  {
   "cell_type": "code",
   "execution_count": 302,
   "source": [
    "ypred"
   ],
   "outputs": [
    {
     "output_type": "execute_result",
     "data": {
      "text/plain": [
       "array([0., 0., 1., ..., 3., 0., 2.], dtype=float32)"
      ]
     },
     "metadata": {},
     "execution_count": 302
    }
   ],
   "metadata": {}
  },
  {
   "cell_type": "code",
   "execution_count": 303,
   "source": [
    "ypred = ypred+1"
   ],
   "outputs": [],
   "metadata": {}
  },
  {
   "cell_type": "code",
   "execution_count": 304,
   "source": [
    "type(ypred)"
   ],
   "outputs": [
    {
     "output_type": "execute_result",
     "data": {
      "text/plain": [
       "numpy.ndarray"
      ]
     },
     "metadata": {},
     "execution_count": 304
    }
   ],
   "metadata": {}
  },
  {
   "cell_type": "code",
   "execution_count": 305,
   "source": [
    "df = pd.read_csv(\"./data/test_dataset.csv\")"
   ],
   "outputs": [],
   "metadata": {}
  },
  {
   "cell_type": "code",
   "execution_count": 306,
   "source": [
    "df = df['primary_identifier']"
   ],
   "outputs": [],
   "metadata": {}
  },
  {
   "cell_type": "code",
   "execution_count": 307,
   "source": [
    "df"
   ],
   "outputs": [
    {
     "output_type": "execute_result",
     "data": {
      "text/plain": [
       "0       2003793\n",
       "1       1776101\n",
       "2       6945050\n",
       "3       2472049\n",
       "4       7197266\n",
       "         ...   \n",
       "4495    8830679\n",
       "4496    3839728\n",
       "4497    2166141\n",
       "4498    9426198\n",
       "4499    9114395\n",
       "Name: primary_identifier, Length: 4500, dtype: int64"
      ]
     },
     "metadata": {},
     "execution_count": 307
    }
   ],
   "metadata": {}
  },
  {
   "cell_type": "code",
   "execution_count": 308,
   "source": [
    "pred_df = pd.DataFrame(ypred, columns =['next_month_plan'])"
   ],
   "outputs": [],
   "metadata": {}
  },
  {
   "cell_type": "code",
   "execution_count": 309,
   "source": [
    "print(pred_df)"
   ],
   "outputs": [
    {
     "output_type": "stream",
     "name": "stdout",
     "text": [
      "      next_month_plan\n",
      "0                 1.0\n",
      "1                 1.0\n",
      "2                 2.0\n",
      "3                 1.0\n",
      "4                 1.0\n",
      "...               ...\n",
      "4495              7.0\n",
      "4496              3.0\n",
      "4497              4.0\n",
      "4498              1.0\n",
      "4499              3.0\n",
      "\n",
      "[4500 rows x 1 columns]\n"
     ]
    }
   ],
   "metadata": {}
  },
  {
   "cell_type": "code",
   "execution_count": 310,
   "source": [
    "df_submission=pd.concat([df, pred_df], axis=1)"
   ],
   "outputs": [],
   "metadata": {}
  },
  {
   "cell_type": "code",
   "execution_count": 311,
   "source": [
    "df_submission = df_submission.astype(int)"
   ],
   "outputs": [],
   "metadata": {}
  },
  {
   "cell_type": "code",
   "execution_count": 312,
   "source": [
    "df_submission"
   ],
   "outputs": [
    {
     "output_type": "execute_result",
     "data": {
      "text/html": [
       "<div>\n",
       "<style scoped>\n",
       "    .dataframe tbody tr th:only-of-type {\n",
       "        vertical-align: middle;\n",
       "    }\n",
       "\n",
       "    .dataframe tbody tr th {\n",
       "        vertical-align: top;\n",
       "    }\n",
       "\n",
       "    .dataframe thead th {\n",
       "        text-align: right;\n",
       "    }\n",
       "</style>\n",
       "<table border=\"1\" class=\"dataframe\">\n",
       "  <thead>\n",
       "    <tr style=\"text-align: right;\">\n",
       "      <th></th>\n",
       "      <th>primary_identifier</th>\n",
       "      <th>next_month_plan</th>\n",
       "    </tr>\n",
       "  </thead>\n",
       "  <tbody>\n",
       "    <tr>\n",
       "      <th>0</th>\n",
       "      <td>2003793</td>\n",
       "      <td>1</td>\n",
       "    </tr>\n",
       "    <tr>\n",
       "      <th>1</th>\n",
       "      <td>1776101</td>\n",
       "      <td>1</td>\n",
       "    </tr>\n",
       "    <tr>\n",
       "      <th>2</th>\n",
       "      <td>6945050</td>\n",
       "      <td>2</td>\n",
       "    </tr>\n",
       "    <tr>\n",
       "      <th>3</th>\n",
       "      <td>2472049</td>\n",
       "      <td>1</td>\n",
       "    </tr>\n",
       "    <tr>\n",
       "      <th>4</th>\n",
       "      <td>7197266</td>\n",
       "      <td>1</td>\n",
       "    </tr>\n",
       "    <tr>\n",
       "      <th>...</th>\n",
       "      <td>...</td>\n",
       "      <td>...</td>\n",
       "    </tr>\n",
       "    <tr>\n",
       "      <th>4495</th>\n",
       "      <td>8830679</td>\n",
       "      <td>7</td>\n",
       "    </tr>\n",
       "    <tr>\n",
       "      <th>4496</th>\n",
       "      <td>3839728</td>\n",
       "      <td>3</td>\n",
       "    </tr>\n",
       "    <tr>\n",
       "      <th>4497</th>\n",
       "      <td>2166141</td>\n",
       "      <td>4</td>\n",
       "    </tr>\n",
       "    <tr>\n",
       "      <th>4498</th>\n",
       "      <td>9426198</td>\n",
       "      <td>1</td>\n",
       "    </tr>\n",
       "    <tr>\n",
       "      <th>4499</th>\n",
       "      <td>9114395</td>\n",
       "      <td>3</td>\n",
       "    </tr>\n",
       "  </tbody>\n",
       "</table>\n",
       "<p>4500 rows × 2 columns</p>\n",
       "</div>"
      ],
      "text/plain": [
       "      primary_identifier  next_month_plan\n",
       "0                2003793                1\n",
       "1                1776101                1\n",
       "2                6945050                2\n",
       "3                2472049                1\n",
       "4                7197266                1\n",
       "...                  ...              ...\n",
       "4495             8830679                7\n",
       "4496             3839728                3\n",
       "4497             2166141                4\n",
       "4498             9426198                1\n",
       "4499             9114395                3\n",
       "\n",
       "[4500 rows x 2 columns]"
      ]
     },
     "metadata": {},
     "execution_count": 312
    }
   ],
   "metadata": {}
  },
  {
   "cell_type": "code",
   "execution_count": 314,
   "source": [
    "df_submission.to_csv(\"submission.csv\", encoding='utf-8', index=False)"
   ],
   "outputs": [],
   "metadata": {}
  },
  {
   "cell_type": "markdown",
   "source": [
    "# NN"
   ],
   "metadata": {}
  },
  {
   "cell_type": "code",
   "execution_count": 346,
   "source": [
    "clf = MLPClassifier(hidden_layer_sizes=[100,100,64,32,100,112],random_state=1, max_iter=2000).fit(X_train, y_train)"
   ],
   "outputs": [],
   "metadata": {}
  },
  {
   "cell_type": "code",
   "execution_count": 347,
   "source": [
    "pred = clf.predict(X_test)"
   ],
   "outputs": [],
   "metadata": {}
  },
  {
   "cell_type": "code",
   "execution_count": 348,
   "source": [
    "r2_score(y_test,pred)"
   ],
   "outputs": [
    {
     "output_type": "execute_result",
     "data": {
      "text/plain": [
       "0.18064456998484968"
      ]
     },
     "metadata": {},
     "execution_count": 348
    }
   ],
   "metadata": {}
  },
  {
   "cell_type": "code",
   "execution_count": 10,
   "source": [
    "# Import Support Vector Classifier\n",
    "from sklearn.svm import SVC\n",
    "from sklearn.ensemble import AdaBoostClassifier\n",
    "from sklearn.metrics import f1_score\n",
    "svc=SVC(probability=True)\n",
    "forest = RandomForestClassifier(random_state=0)\n",
    "# Create adaboost classifer object\n",
    "abc =AdaBoostClassifier(n_estimators=100, base_estimator=forest,learning_rate=1)\n",
    "\n",
    "# Train Adaboost Classifer\n",
    "model = abc.fit(X_train, y_train)\n",
    "\n",
    "#Predict the response for test dataset\n",
    "y_pred = model.predict(X_test)\n",
    "\n",
    "\n",
    "# Model Accuracy, how often is the classifier correct?\n",
    "print(\"Accuracy:\",f1_score(y_test, y_pred,average='micro'))"
   ],
   "outputs": [
    {
     "output_type": "stream",
     "name": "stdout",
     "text": [
      "Accuracy: 0.5112107623318386\n"
     ]
    }
   ],
   "metadata": {}
  },
  {
   "cell_type": "code",
   "execution_count": null,
   "source": [],
   "outputs": [],
   "metadata": {}
  }
 ],
 "metadata": {
  "kernelspec": {
   "name": "python3",
   "display_name": "Python 3.8.2 64-bit"
  },
  "language_info": {
   "codemirror_mode": {
    "name": "ipython",
    "version": 3
   },
   "file_extension": ".py",
   "mimetype": "text/x-python",
   "name": "python",
   "nbconvert_exporter": "python",
   "pygments_lexer": "ipython3",
   "version": "3.8.2"
  },
  "interpreter": {
   "hash": "1baa965d5efe3ac65b79dfc60c0d706280b1da80fedb7760faf2759126c4f253"
  }
 },
 "nbformat": 4,
 "nbformat_minor": 4
}